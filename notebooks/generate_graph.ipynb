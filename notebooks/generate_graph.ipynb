{
 "cells": [
  {
   "cell_type": "markdown",
   "metadata": {},
   "source": [
    "# Generates a graph based on the temporal occurence of each feature"
   ]
  },
  {
   "cell_type": "markdown",
   "metadata": {},
   "source": [
    "### Initialization:"
   ]
  },
  {
   "cell_type": "code",
   "execution_count": 122,
   "metadata": {},
   "outputs": [],
   "source": [
    "import numpy as np\n",
    "import tensorflow.compat.v1 as tf\n",
    "import networkx as nx\n",
    "import matplotlib.pyplot as plt\n",
    "\n",
    "tf.disable_v2_behavior()"
   ]
  },
  {
   "cell_type": "code",
   "execution_count": 123,
   "metadata": {},
   "outputs": [],
   "source": [
    "# File Names\n",
    "load_pre = '../'\n",
    "images_file_name = 'Data/frames.npy'\n",
    "F = np.load(load_pre+'bases.npy')\n",
    "\n",
    "K,sz = F.shape;\n",
    "k_sz = np.int32(np.floor(np.sqrt(sz)))\n"
   ]
  },
  {
   "cell_type": "markdown",
   "metadata": {},
   "source": [
    "### Construct Graph"
   ]
  },
  {
   "cell_type": "code",
   "execution_count": 124,
   "metadata": {},
   "outputs": [
    {
     "name": "stdout",
     "output_type": "stream",
     "text": [
      "# 0/1024\n",
      "# 1/1024\n",
      "# 2/1024\n",
      "# 3/1024\n",
      "# 4/1024\n",
      "# 5/1024\n",
      "# 6/1024\n",
      "# 7/1024\n",
      "# 8/1024\n",
      "# 9/1024\n",
      "# 10/1024\n",
      "# 11/1024\n",
      "# 12/1024\n",
      "# 13/1024\n",
      "# 14/1024\n",
      "# 15/1024\n",
      "# 16/1024\n",
      "# 17/1024\n",
      "# 18/1024\n",
      "# 19/1024\n",
      "# 20/1024\n",
      "# 21/1024\n",
      "# 22/1024\n",
      "# 23/1024\n",
      "# 24/1024\n",
      "# 25/1024\n",
      "# 26/1024\n",
      "# 27/1024\n",
      "# 28/1024\n",
      "# 29/1024\n",
      "# 30/1024\n",
      "# 31/1024\n",
      "# 32/1024\n",
      "# 33/1024\n",
      "# 34/1024\n",
      "# 35/1024\n",
      "# 36/1024\n",
      "# 37/1024\n",
      "# 38/1024\n",
      "# 39/1024\n",
      "# 40/1024\n",
      "# 41/1024\n",
      "# 42/1024\n",
      "# 43/1024\n",
      "# 44/1024\n",
      "# 45/1024\n",
      "# 46/1024\n",
      "# 47/1024\n",
      "# 48/1024\n",
      "# 49/1024\n",
      "# 50/1024\n",
      "# 51/1024\n",
      "# 52/1024\n",
      "# 53/1024\n",
      "# 54/1024\n",
      "# 55/1024\n",
      "# 56/1024\n",
      "# 57/1024\n",
      "# 58/1024\n",
      "# 59/1024\n",
      "# 60/1024\n",
      "# 61/1024\n",
      "# 62/1024\n",
      "# 63/1024\n",
      "# 64/1024\n",
      "# 65/1024\n",
      "# 66/1024\n",
      "# 67/1024\n",
      "# 68/1024\n",
      "# 69/1024\n",
      "# 70/1024\n",
      "# 71/1024\n",
      "# 72/1024\n",
      "# 73/1024\n",
      "# 74/1024\n",
      "# 75/1024\n",
      "# 76/1024\n",
      "# 77/1024\n",
      "# 78/1024\n",
      "# 79/1024\n",
      "# 80/1024\n",
      "# 81/1024\n",
      "# 82/1024\n",
      "# 83/1024\n",
      "# 84/1024\n",
      "# 85/1024\n",
      "# 86/1024\n",
      "# 87/1024\n",
      "# 88/1024\n",
      "# 89/1024\n",
      "# 90/1024\n",
      "# 91/1024\n",
      "# 92/1024\n",
      "# 93/1024\n",
      "# 94/1024\n",
      "# 95/1024\n",
      "# 96/1024\n",
      "# 97/1024\n",
      "# 98/1024\n",
      "# 99/1024\n",
      "# 100/1024\n",
      "# 101/1024\n",
      "# 102/1024\n",
      "# 103/1024\n",
      "# 104/1024\n",
      "# 105/1024\n",
      "# 106/1024\n",
      "# 107/1024\n",
      "# 108/1024\n",
      "# 109/1024\n",
      "# 110/1024\n",
      "# 111/1024\n",
      "# 112/1024\n",
      "# 113/1024\n",
      "# 114/1024\n",
      "# 115/1024\n",
      "# 116/1024\n",
      "# 117/1024\n",
      "# 118/1024\n",
      "# 119/1024\n",
      "# 120/1024\n",
      "# 121/1024\n",
      "# 122/1024\n",
      "# 123/1024\n",
      "# 124/1024\n",
      "# 125/1024\n",
      "# 126/1024\n",
      "# 127/1024\n",
      "# 128/1024\n",
      "# 129/1024\n",
      "# 130/1024\n",
      "# 131/1024\n",
      "# 132/1024\n",
      "# 133/1024\n",
      "# 134/1024\n",
      "# 135/1024\n",
      "# 136/1024\n",
      "# 137/1024\n",
      "# 138/1024\n",
      "# 139/1024\n",
      "# 140/1024\n",
      "# 141/1024\n",
      "# 142/1024\n",
      "# 143/1024\n",
      "# 144/1024\n",
      "# 145/1024\n",
      "# 146/1024\n",
      "# 147/1024\n",
      "# 148/1024\n",
      "# 149/1024\n",
      "# 150/1024\n",
      "# 151/1024\n",
      "# 152/1024\n",
      "# 153/1024\n",
      "# 154/1024\n",
      "# 155/1024\n",
      "# 156/1024\n",
      "# 157/1024\n",
      "# 158/1024\n",
      "# 159/1024\n",
      "# 160/1024\n",
      "# 161/1024\n",
      "# 162/1024\n",
      "# 163/1024\n",
      "# 164/1024\n",
      "# 165/1024\n",
      "# 166/1024\n",
      "# 167/1024\n",
      "# 168/1024\n",
      "# 169/1024\n",
      "# 170/1024\n",
      "# 171/1024\n",
      "# 172/1024\n",
      "# 173/1024\n",
      "# 174/1024\n",
      "# 175/1024\n",
      "# 176/1024\n",
      "# 177/1024\n",
      "# 178/1024\n",
      "# 179/1024\n",
      "# 180/1024\n",
      "# 181/1024\n",
      "# 182/1024\n",
      "# 183/1024\n",
      "# 184/1024\n",
      "# 185/1024\n",
      "# 186/1024\n",
      "# 187/1024\n",
      "# 188/1024\n",
      "# 189/1024\n",
      "# 190/1024\n",
      "# 191/1024\n",
      "# 192/1024\n",
      "# 193/1024\n",
      "# 194/1024\n",
      "# 195/1024\n",
      "# 196/1024\n",
      "# 197/1024\n",
      "# 198/1024\n",
      "# 199/1024\n",
      "# 200/1024\n",
      "# 201/1024\n",
      "# 202/1024\n",
      "# 203/1024\n",
      "# 204/1024\n",
      "# 205/1024\n",
      "# 206/1024\n",
      "# 207/1024\n",
      "# 208/1024\n",
      "# 209/1024\n",
      "# 210/1024\n",
      "# 211/1024\n",
      "# 212/1024\n",
      "# 213/1024\n",
      "# 214/1024\n",
      "# 215/1024\n",
      "# 216/1024\n",
      "# 217/1024\n",
      "# 218/1024\n",
      "# 219/1024\n",
      "# 220/1024\n",
      "# 221/1024\n",
      "# 222/1024\n",
      "# 223/1024\n",
      "# 224/1024\n",
      "# 225/1024\n",
      "# 226/1024\n",
      "# 227/1024\n",
      "# 228/1024\n",
      "# 229/1024\n",
      "# 230/1024\n",
      "# 231/1024\n",
      "# 232/1024\n",
      "# 233/1024\n",
      "# 234/1024\n",
      "# 235/1024\n",
      "# 236/1024\n",
      "# 237/1024\n",
      "# 238/1024\n",
      "# 239/1024\n",
      "# 240/1024\n",
      "# 241/1024\n",
      "# 242/1024\n",
      "# 243/1024\n",
      "# 244/1024\n",
      "# 245/1024\n",
      "# 246/1024\n",
      "# 247/1024\n",
      "# 248/1024\n",
      "# 249/1024\n",
      "# 250/1024\n",
      "# 251/1024\n",
      "# 252/1024\n",
      "# 253/1024\n",
      "# 254/1024\n",
      "# 255/1024\n",
      "# 256/1024\n",
      "# 257/1024\n",
      "# 258/1024\n",
      "# 259/1024\n",
      "# 260/1024\n",
      "# 261/1024\n",
      "# 262/1024\n",
      "# 263/1024\n",
      "# 264/1024\n",
      "# 265/1024\n",
      "# 266/1024\n",
      "# 267/1024\n",
      "# 268/1024\n",
      "# 269/1024\n",
      "# 270/1024\n",
      "# 271/1024\n",
      "# 272/1024\n",
      "# 273/1024\n",
      "# 274/1024\n",
      "# 275/1024\n",
      "# 276/1024\n",
      "# 277/1024\n",
      "# 278/1024\n",
      "# 279/1024\n",
      "# 280/1024\n",
      "# 281/1024\n",
      "# 282/1024\n",
      "# 283/1024\n",
      "# 284/1024\n",
      "# 285/1024\n",
      "# 286/1024\n",
      "# 287/1024\n",
      "# 288/1024\n",
      "# 289/1024\n",
      "# 290/1024\n",
      "# 291/1024\n",
      "# 292/1024\n",
      "# 293/1024\n",
      "# 294/1024\n",
      "# 295/1024\n",
      "# 296/1024\n",
      "# 297/1024\n",
      "# 298/1024\n",
      "# 299/1024\n",
      "# 300/1024\n",
      "# 301/1024\n",
      "# 302/1024\n",
      "# 303/1024\n",
      "# 304/1024\n",
      "# 305/1024\n",
      "# 306/1024\n",
      "# 307/1024\n",
      "# 308/1024\n",
      "# 309/1024\n",
      "# 310/1024\n",
      "# 311/1024\n",
      "# 312/1024\n",
      "# 313/1024\n",
      "# 314/1024\n",
      "# 315/1024\n",
      "# 316/1024\n",
      "# 317/1024\n",
      "# 318/1024\n",
      "# 319/1024\n",
      "# 320/1024\n",
      "# 321/1024\n",
      "# 322/1024\n",
      "# 323/1024\n",
      "# 324/1024\n",
      "# 325/1024\n",
      "# 326/1024\n",
      "# 327/1024\n",
      "# 328/1024\n",
      "# 329/1024\n",
      "# 330/1024\n",
      "# 331/1024\n",
      "# 332/1024\n",
      "# 333/1024\n",
      "# 334/1024\n",
      "# 335/1024\n",
      "# 336/1024\n",
      "# 337/1024\n",
      "# 338/1024\n",
      "# 339/1024\n",
      "# 340/1024\n",
      "# 341/1024\n",
      "# 342/1024\n",
      "# 343/1024\n",
      "# 344/1024\n",
      "# 345/1024\n",
      "# 346/1024\n",
      "# 347/1024\n",
      "# 348/1024\n",
      "# 349/1024\n",
      "# 350/1024\n",
      "# 351/1024\n",
      "# 352/1024\n",
      "# 353/1024\n",
      "# 354/1024\n",
      "# 355/1024\n",
      "# 356/1024\n",
      "# 357/1024\n",
      "# 358/1024\n",
      "# 359/1024\n",
      "# 360/1024\n",
      "# 361/1024\n",
      "# 362/1024\n",
      "# 363/1024\n",
      "# 364/1024\n",
      "# 365/1024\n",
      "# 366/1024\n",
      "# 367/1024\n",
      "# 368/1024\n",
      "# 369/1024\n",
      "# 370/1024\n",
      "# 371/1024\n",
      "# 372/1024\n",
      "# 373/1024\n",
      "# 374/1024\n",
      "# 375/1024\n",
      "# 376/1024\n",
      "# 377/1024\n",
      "# 378/1024\n",
      "# 379/1024\n",
      "# 380/1024\n",
      "# 381/1024\n",
      "# 382/1024\n",
      "# 383/1024\n",
      "# 384/1024\n",
      "# 385/1024\n",
      "# 386/1024\n",
      "# 387/1024\n",
      "# 388/1024\n",
      "# 389/1024\n",
      "# 390/1024\n",
      "# 391/1024\n",
      "# 392/1024\n",
      "# 393/1024\n",
      "# 394/1024\n",
      "# 395/1024\n",
      "# 396/1024\n",
      "# 397/1024\n",
      "# 398/1024\n",
      "# 399/1024\n",
      "# 400/1024\n",
      "# 401/1024\n",
      "# 402/1024\n",
      "# 403/1024\n",
      "# 404/1024\n",
      "# 405/1024\n",
      "# 406/1024\n",
      "# 407/1024\n",
      "# 408/1024\n",
      "# 409/1024\n",
      "# 410/1024\n",
      "# 411/1024\n",
      "# 412/1024\n",
      "# 413/1024\n",
      "# 414/1024\n",
      "# 415/1024\n",
      "# 416/1024\n",
      "# 417/1024\n",
      "# 418/1024\n",
      "# 419/1024\n",
      "# 420/1024\n",
      "# 421/1024\n",
      "# 422/1024\n",
      "# 423/1024\n",
      "# 424/1024\n",
      "# 425/1024\n",
      "# 426/1024\n",
      "# 427/1024\n",
      "# 428/1024\n",
      "# 429/1024\n",
      "# 430/1024\n",
      "# 431/1024\n",
      "# 432/1024\n",
      "# 433/1024\n",
      "# 434/1024\n",
      "# 435/1024\n",
      "# 436/1024\n",
      "# 437/1024\n",
      "# 438/1024\n",
      "# 439/1024\n",
      "# 440/1024\n",
      "# 441/1024\n",
      "# 442/1024\n",
      "# 443/1024\n",
      "# 444/1024\n",
      "# 445/1024\n",
      "# 446/1024\n",
      "# 447/1024\n",
      "# 448/1024\n",
      "# 449/1024\n",
      "# 450/1024\n",
      "# 451/1024\n",
      "# 452/1024\n",
      "# 453/1024\n",
      "# 454/1024\n",
      "# 455/1024\n",
      "# 456/1024\n",
      "# 457/1024\n",
      "# 458/1024\n",
      "# 459/1024\n",
      "# 460/1024\n",
      "# 461/1024\n",
      "# 462/1024\n",
      "# 463/1024\n",
      "# 464/1024\n",
      "# 465/1024\n",
      "# 466/1024\n",
      "# 467/1024\n",
      "# 468/1024\n",
      "# 469/1024\n",
      "# 470/1024\n",
      "# 471/1024\n",
      "# 472/1024\n",
      "# 473/1024\n",
      "# 474/1024\n",
      "# 475/1024\n",
      "# 476/1024\n",
      "# 477/1024\n",
      "# 478/1024\n",
      "# 479/1024\n",
      "# 480/1024\n",
      "# 481/1024\n",
      "# 482/1024\n",
      "# 483/1024\n",
      "# 484/1024\n",
      "# 485/1024\n",
      "# 486/1024\n",
      "# 487/1024\n",
      "# 488/1024\n",
      "# 489/1024\n",
      "# 490/1024\n",
      "# 491/1024\n",
      "# 492/1024\n",
      "# 493/1024\n",
      "# 494/1024\n",
      "# 495/1024\n",
      "# 496/1024\n",
      "# 497/1024\n",
      "# 498/1024\n",
      "# 499/1024\n",
      "# 500/1024\n",
      "# 501/1024\n",
      "# 502/1024\n",
      "# 503/1024\n",
      "# 504/1024\n",
      "# 505/1024\n",
      "# 506/1024\n",
      "# 507/1024\n",
      "# 508/1024\n",
      "# 509/1024\n",
      "# 510/1024\n",
      "# 511/1024\n",
      "# 512/1024\n",
      "# 513/1024\n",
      "# 514/1024\n",
      "# 515/1024\n",
      "# 516/1024\n",
      "# 517/1024\n",
      "# 518/1024\n",
      "# 519/1024\n",
      "# 520/1024\n",
      "# 521/1024\n",
      "# 522/1024\n",
      "# 523/1024\n",
      "# 524/1024\n",
      "# 525/1024\n",
      "# 526/1024\n",
      "# 527/1024\n",
      "# 528/1024\n",
      "# 529/1024\n",
      "# 530/1024\n",
      "# 531/1024\n",
      "# 532/1024\n",
      "# 533/1024\n",
      "# 534/1024\n",
      "# 535/1024\n",
      "# 536/1024\n",
      "# 537/1024\n",
      "# 538/1024\n",
      "# 539/1024\n",
      "# 540/1024\n",
      "# 541/1024\n",
      "# 542/1024\n",
      "# 543/1024\n",
      "# 544/1024\n",
      "# 545/1024\n",
      "# 546/1024\n",
      "# 547/1024\n",
      "# 548/1024\n",
      "# 549/1024\n",
      "# 550/1024\n",
      "# 551/1024\n",
      "# 552/1024\n",
      "# 553/1024\n",
      "# 554/1024\n",
      "# 555/1024\n",
      "# 556/1024\n",
      "# 557/1024\n",
      "# 558/1024\n",
      "# 559/1024\n",
      "# 560/1024\n",
      "# 561/1024\n",
      "# 562/1024\n",
      "# 563/1024\n",
      "# 564/1024\n",
      "# 565/1024\n",
      "# 566/1024\n",
      "# 567/1024\n",
      "# 568/1024\n",
      "# 569/1024\n",
      "# 570/1024\n",
      "# 571/1024\n",
      "# 572/1024\n",
      "# 573/1024\n",
      "# 574/1024\n",
      "# 575/1024\n",
      "# 576/1024\n",
      "# 577/1024\n",
      "# 578/1024\n",
      "# 579/1024\n",
      "# 580/1024\n",
      "# 581/1024\n",
      "# 582/1024\n",
      "# 583/1024\n",
      "# 584/1024\n",
      "# 585/1024\n",
      "# 586/1024\n",
      "# 587/1024\n",
      "# 588/1024\n",
      "# 589/1024\n",
      "# 590/1024\n",
      "# 591/1024\n",
      "# 592/1024\n",
      "# 593/1024\n",
      "# 594/1024\n",
      "# 595/1024\n",
      "# 596/1024\n",
      "# 597/1024\n",
      "# 598/1024\n",
      "# 599/1024\n",
      "# 600/1024\n",
      "# 601/1024\n",
      "# 602/1024\n",
      "# 603/1024\n",
      "# 604/1024\n",
      "# 605/1024\n",
      "# 606/1024\n",
      "# 607/1024\n",
      "# 608/1024\n",
      "# 609/1024\n",
      "# 610/1024\n",
      "# 611/1024\n",
      "# 612/1024\n",
      "# 613/1024\n",
      "# 614/1024\n",
      "# 615/1024\n",
      "# 616/1024\n",
      "# 617/1024\n",
      "# 618/1024\n",
      "# 619/1024\n",
      "# 620/1024\n",
      "# 621/1024\n",
      "# 622/1024\n",
      "# 623/1024\n",
      "# 624/1024\n",
      "# 625/1024\n",
      "# 626/1024\n",
      "# 627/1024\n",
      "# 628/1024\n",
      "# 629/1024\n",
      "# 630/1024\n",
      "# 631/1024\n",
      "# 632/1024\n",
      "# 633/1024\n",
      "# 634/1024\n",
      "# 635/1024\n",
      "# 636/1024\n",
      "# 637/1024\n",
      "# 638/1024\n",
      "# 639/1024\n",
      "# 640/1024\n",
      "# 641/1024\n",
      "# 642/1024\n",
      "# 643/1024\n",
      "# 644/1024\n",
      "# 645/1024\n",
      "# 646/1024\n",
      "# 647/1024\n",
      "# 648/1024\n",
      "# 649/1024\n",
      "# 650/1024\n",
      "# 651/1024\n",
      "# 652/1024\n",
      "# 653/1024\n",
      "# 654/1024\n",
      "# 655/1024\n",
      "# 656/1024\n",
      "# 657/1024\n",
      "# 658/1024\n",
      "# 659/1024\n",
      "# 660/1024\n",
      "# 661/1024\n",
      "# 662/1024\n",
      "# 663/1024\n",
      "# 664/1024\n",
      "# 665/1024\n",
      "# 666/1024\n",
      "# 667/1024\n",
      "# 668/1024\n",
      "# 669/1024\n",
      "# 670/1024\n",
      "# 671/1024\n",
      "# 672/1024\n",
      "# 673/1024\n",
      "# 674/1024\n",
      "# 675/1024\n",
      "# 676/1024\n",
      "# 677/1024\n",
      "# 678/1024\n",
      "# 679/1024\n",
      "# 680/1024\n",
      "# 681/1024\n",
      "# 682/1024\n",
      "# 683/1024\n",
      "# 684/1024\n",
      "# 685/1024\n",
      "# 686/1024\n",
      "# 687/1024\n",
      "# 688/1024\n",
      "# 689/1024\n",
      "# 690/1024\n",
      "# 691/1024\n",
      "# 692/1024\n",
      "# 693/1024\n",
      "# 694/1024\n",
      "# 695/1024\n",
      "# 696/1024\n",
      "# 697/1024\n",
      "# 698/1024\n",
      "# 699/1024\n",
      "# 700/1024\n",
      "# 701/1024\n",
      "# 702/1024\n",
      "# 703/1024\n",
      "# 704/1024\n",
      "# 705/1024\n",
      "# 706/1024\n",
      "# 707/1024\n",
      "# 708/1024\n",
      "# 709/1024\n",
      "# 710/1024\n",
      "# 711/1024\n",
      "# 712/1024\n",
      "# 713/1024\n",
      "# 714/1024\n",
      "# 715/1024\n",
      "# 716/1024\n",
      "# 717/1024\n",
      "# 718/1024\n",
      "# 719/1024\n",
      "# 720/1024\n",
      "# 721/1024\n",
      "# 722/1024\n",
      "# 723/1024\n",
      "# 724/1024\n",
      "# 725/1024\n",
      "# 726/1024\n",
      "# 727/1024\n",
      "# 728/1024\n",
      "# 729/1024\n",
      "# 730/1024\n",
      "# 731/1024\n",
      "# 732/1024\n",
      "# 733/1024\n",
      "# 734/1024\n",
      "# 735/1024\n",
      "# 736/1024\n",
      "# 737/1024\n",
      "# 738/1024\n",
      "# 739/1024\n",
      "# 740/1024\n",
      "# 741/1024\n",
      "# 742/1024\n",
      "# 743/1024\n",
      "# 744/1024\n",
      "# 745/1024\n",
      "# 746/1024\n",
      "# 747/1024\n",
      "# 748/1024\n",
      "# 749/1024\n",
      "# 750/1024\n",
      "# 751/1024\n",
      "# 752/1024\n",
      "# 753/1024\n",
      "# 754/1024\n",
      "# 755/1024\n",
      "# 756/1024\n",
      "# 757/1024\n",
      "# 758/1024\n",
      "# 759/1024\n",
      "# 760/1024\n",
      "# 761/1024\n",
      "# 762/1024\n",
      "# 763/1024\n",
      "# 764/1024\n",
      "# 765/1024\n",
      "# 766/1024\n",
      "# 767/1024\n",
      "# 768/1024\n",
      "# 769/1024\n",
      "# 770/1024\n",
      "# 771/1024\n",
      "# 772/1024\n",
      "# 773/1024\n",
      "# 774/1024\n",
      "# 775/1024\n",
      "# 776/1024\n",
      "# 777/1024\n",
      "# 778/1024\n",
      "# 779/1024\n",
      "# 780/1024\n",
      "# 781/1024\n",
      "# 782/1024\n",
      "# 783/1024\n",
      "# 784/1024\n",
      "# 785/1024\n",
      "# 786/1024\n",
      "# 787/1024\n",
      "# 788/1024\n",
      "# 789/1024\n",
      "# 790/1024\n",
      "# 791/1024\n",
      "# 792/1024\n",
      "# 793/1024\n",
      "# 794/1024\n",
      "# 795/1024\n",
      "# 796/1024\n",
      "# 797/1024\n",
      "# 798/1024\n",
      "# 799/1024\n",
      "# 800/1024\n",
      "# 801/1024\n",
      "# 802/1024\n",
      "# 803/1024\n",
      "# 804/1024\n",
      "# 805/1024\n",
      "# 806/1024\n",
      "# 807/1024\n",
      "# 808/1024\n",
      "# 809/1024\n",
      "# 810/1024\n",
      "# 811/1024\n",
      "# 812/1024\n",
      "# 813/1024\n",
      "# 814/1024\n"
     ]
    },
    {
     "name": "stdout",
     "output_type": "stream",
     "text": [
      "# 815/1024\n",
      "# 816/1024\n",
      "# 817/1024\n",
      "# 818/1024\n",
      "# 819/1024\n",
      "# 820/1024\n",
      "# 821/1024\n",
      "# 822/1024\n",
      "# 823/1024\n",
      "# 824/1024\n",
      "# 825/1024\n",
      "# 826/1024\n",
      "# 827/1024\n",
      "# 828/1024\n",
      "# 829/1024\n",
      "# 830/1024\n",
      "# 831/1024\n",
      "# 832/1024\n",
      "# 833/1024\n",
      "# 834/1024\n",
      "# 835/1024\n",
      "# 836/1024\n",
      "# 837/1024\n",
      "# 838/1024\n",
      "# 839/1024\n",
      "# 840/1024\n",
      "# 841/1024\n",
      "# 842/1024\n",
      "# 843/1024\n",
      "# 844/1024\n",
      "# 845/1024\n",
      "# 846/1024\n",
      "# 847/1024\n",
      "# 848/1024\n",
      "# 849/1024\n",
      "# 850/1024\n",
      "# 851/1024\n",
      "# 852/1024\n",
      "# 853/1024\n",
      "# 854/1024\n",
      "# 855/1024\n",
      "# 856/1024\n",
      "# 857/1024\n",
      "# 858/1024\n",
      "# 859/1024\n",
      "# 860/1024\n",
      "# 861/1024\n",
      "# 862/1024\n",
      "# 863/1024\n",
      "# 864/1024\n",
      "# 865/1024\n",
      "# 866/1024\n",
      "# 867/1024\n",
      "# 868/1024\n",
      "# 869/1024\n",
      "# 870/1024\n",
      "# 871/1024\n",
      "# 872/1024\n",
      "# 873/1024\n",
      "# 874/1024\n",
      "# 875/1024\n",
      "# 876/1024\n",
      "# 877/1024\n",
      "# 878/1024\n",
      "# 879/1024\n",
      "# 880/1024\n",
      "# 881/1024\n",
      "# 882/1024\n",
      "# 883/1024\n",
      "# 884/1024\n",
      "# 885/1024\n",
      "# 886/1024\n",
      "# 887/1024\n",
      "# 888/1024\n",
      "# 889/1024\n",
      "# 890/1024\n",
      "# 891/1024\n",
      "# 892/1024\n",
      "# 893/1024\n",
      "# 894/1024\n",
      "# 895/1024\n",
      "# 896/1024\n",
      "# 897/1024\n",
      "# 898/1024\n",
      "# 899/1024\n",
      "# 900/1024\n",
      "# 901/1024\n",
      "# 902/1024\n",
      "# 903/1024\n",
      "# 904/1024\n",
      "# 905/1024\n",
      "# 906/1024\n",
      "# 907/1024\n",
      "# 908/1024\n",
      "# 909/1024\n",
      "# 910/1024\n",
      "# 911/1024\n",
      "# 912/1024\n",
      "# 913/1024\n",
      "# 914/1024\n",
      "# 915/1024\n",
      "# 916/1024\n",
      "# 917/1024\n",
      "# 918/1024\n",
      "# 919/1024\n",
      "# 920/1024\n",
      "# 921/1024\n",
      "# 922/1024\n",
      "# 923/1024\n",
      "# 924/1024\n",
      "# 925/1024\n",
      "# 926/1024\n",
      "# 927/1024\n",
      "# 928/1024\n",
      "# 929/1024\n",
      "# 930/1024\n",
      "# 931/1024\n",
      "# 932/1024\n",
      "# 933/1024\n",
      "# 934/1024\n",
      "# 935/1024\n",
      "# 936/1024\n",
      "# 937/1024\n",
      "# 938/1024\n",
      "# 939/1024\n",
      "# 940/1024\n",
      "# 941/1024\n",
      "# 942/1024\n",
      "# 943/1024\n",
      "# 944/1024\n",
      "# 945/1024\n",
      "# 946/1024\n",
      "# 947/1024\n",
      "# 948/1024\n",
      "# 949/1024\n",
      "# 950/1024\n",
      "# 951/1024\n",
      "# 952/1024\n",
      "# 953/1024\n",
      "# 954/1024\n",
      "# 955/1024\n",
      "# 956/1024\n",
      "# 957/1024\n",
      "# 958/1024\n",
      "# 959/1024\n",
      "# 960/1024\n",
      "# 961/1024\n",
      "# 962/1024\n",
      "# 963/1024\n",
      "# 964/1024\n",
      "# 965/1024\n",
      "# 966/1024\n",
      "# 967/1024\n",
      "# 968/1024\n",
      "# 969/1024\n",
      "# 970/1024\n",
      "# 971/1024\n",
      "# 972/1024\n",
      "# 973/1024\n",
      "# 974/1024\n",
      "# 975/1024\n",
      "# 976/1024\n",
      "# 977/1024\n",
      "# 978/1024\n",
      "# 979/1024\n",
      "# 980/1024\n",
      "# 981/1024\n",
      "# 982/1024\n",
      "# 983/1024\n",
      "# 984/1024\n",
      "# 985/1024\n",
      "# 986/1024\n",
      "# 987/1024\n",
      "# 988/1024\n",
      "# 989/1024\n",
      "# 990/1024\n",
      "# 991/1024\n",
      "# 992/1024\n",
      "# 993/1024\n",
      "# 994/1024\n",
      "# 995/1024\n",
      "# 996/1024\n",
      "# 997/1024\n",
      "# 998/1024\n",
      "# 999/1024\n",
      "# 1000/1024\n",
      "# 1001/1024\n",
      "# 1002/1024\n",
      "# 1003/1024\n",
      "# 1004/1024\n",
      "# 1005/1024\n",
      "# 1006/1024\n",
      "# 1007/1024\n",
      "# 1008/1024\n",
      "# 1009/1024\n",
      "# 1010/1024\n",
      "# 1011/1024\n",
      "# 1012/1024\n",
      "# 1013/1024\n",
      "# 1014/1024\n",
      "# 1015/1024\n",
      "# 1016/1024\n",
      "# 1017/1024\n",
      "# 1018/1024\n",
      "# 1019/1024\n",
      "# 1020/1024\n",
      "# 1021/1024\n",
      "# 1022/1024\n"
     ]
    }
   ],
   "source": [
    "alpha = np.load('./../batch_alpha.npy')\n",
    "\n",
    "N,H,W,K = alpha.shape;\n",
    "\n",
    "corr = np.zeros((K,K))\n",
    "\n",
    "\n",
    "for n in range(N-1):\n",
    "    \n",
    "    print('# '+str(n)+'/'+str(N))\n",
    "    \n",
    "    A0 = alpha[n,6,6].reshape([-1,K]);\n",
    "    A1 = alpha[n+1,6,6].reshape([-1,K]);\n",
    "\n",
    "    #A0 = np.sign(A0)\n",
    "    #A1 = np.sign(A1)\n",
    "    \n",
    "    factor1 = np.matmul(A0.transpose(),A1)\n",
    "    factor2 = np.matmul(A1.transpose(),A0)\n",
    "\n",
    "    corr += factor1\n",
    "    corr += factor2\n"
   ]
  },
  {
   "cell_type": "code",
   "execution_count": 125,
   "metadata": {},
   "outputs": [
    {
     "data": {
      "image/png": "[encoded data removed]",
      "text/plain": [
       "<Figure size 432x288 with 2 Axes>"
      ]
     },
     "metadata": {
      "needs_background": "light"
     },
     "output_type": "display_data"
    },
    {
     "data": {
      "image/png": "[encoded data removed]",
      "text/plain": [
       "<Figure size 432x288 with 2 Axes>"
      ]
     },
     "metadata": {
      "needs_background": "light"
     },
     "output_type": "display_data"
    }
   ],
   "source": [
    "\n",
    "A = corr/np.max(corr);\n",
    "\n",
    "np.fill_diagonal(A,0.0)\n",
    "\n",
    "plt.imshow(A)\n",
    "plt.colorbar()\n",
    "plt.show()\n",
    "\n",
    "threshold = 0.35;\n",
    "active = np.sign(np.maximum(A-threshold,0))\n",
    "\n",
    "A *= active\n",
    "\n",
    "\n",
    "plt.imshow(A)\n",
    "plt.colorbar()\n",
    "plt.show()"
   ]
  },
  {
   "cell_type": "code",
   "execution_count": null,
   "metadata": {},
   "outputs": [
    {
     "data": {
      "image/png": "[encoded data removed]",
      "text/plain": [
       "<Figure size 432x288 with 9 Axes>"
      ]
     },
     "metadata": {
      "needs_background": "light"
     },
     "output_type": "display_data"
    },
    {
     "name": "stdout",
     "output_type": "stream",
     "text": [
      "\n"
     ]
    },
    {
     "data": {
      "image/png": "[encoded data removed]",
      "text/plain": [
       "<Figure size 432x288 with 9 Axes>"
      ]
     },
     "metadata": {
      "needs_background": "light"
     },
     "output_type": "display_data"
    }
   ],
   "source": [
    "\n",
    "nn_sqrt = 3;\n",
    "nn_num = nn_sqrt*nn_sqrt;\n",
    "\n",
    "\n",
    "for k in range(K):\n",
    "    edges = A[k];\n",
    "    \n",
    "    \n",
    "    nn = np.argsort(edges)[-nn_num+1:]\n",
    "    \n",
    "    plt.subplot(nn_sqrt,nn_sqrt,1)\n",
    "    plt.imshow(F[k,:].reshape([k_sz,k_sz]))\n",
    "    \n",
    "    for i in range(nn_num-1):\n",
    "        plt.subplot(nn_sqrt,nn_sqrt,i+2)\n",
    "        plt.imshow(F[nn[i],:].reshape([k_sz,k_sz]))\n",
    "    plt.show()\n",
    "    input()\n",
    "    "
   ]
  },
  {
   "cell_type": "code",
   "execution_count": 113,
   "metadata": {},
   "outputs": [],
   "source": [
    "G=nx.from_numpy_matrix(A)"
   ]
  },
  {
   "cell_type": "code",
   "execution_count": 114,
   "metadata": {
    "scrolled": true
   },
   "outputs": [
    {
     "data": {
      "image/png": "[encoded data removed]",
      "text/plain": [
       "<Figure size 432x288 with 1 Axes>"
      ]
     },
     "metadata": {},
     "output_type": "display_data"
    }
   ],
   "source": [
    "# Draw graph\n",
    "pos = nx.kamada_kawai_layout(G)\n",
    "nx.draw(G, pos, node_color=range(G.number_of_nodes()), node_size=800, cmap=plt.cm.Blues)\n",
    "plt.show()"
   ]
  },
  {
   "cell_type": "code",
   "execution_count": 111,
   "metadata": {},
   "outputs": [
    {
     "name": "stdout",
     "output_type": "stream",
     "text": [
      "{0}\n",
      "\n",
      "{1, 132, 263, 9, 11, 140, 268, 15, 273, 17, 274, 276, 277, 278, 151, 152, 281, 283, 28, 27, 30, 32, 164, 37, 165, 38, 41, 169, 42, 174, 177, 178, 179, 57, 58, 63, 192, 64, 66, 65, 196, 197, 69, 70, 200, 77, 79, 208, 82, 217, 220, 93, 95, 224, 227, 230, 231, 105, 107, 241, 114, 242, 246, 247, 122, 251}\n",
      "\n",
      "{2}\n",
      "\n",
      "{3}\n",
      "\n",
      "{4}\n",
      "\n",
      "{5}\n",
      "\n",
      "{6}\n",
      "\n",
      "\n",
      "{7}\n",
      "{8}\n",
      "\n",
      "\n",
      "{10}\n",
      "{12}\n",
      "\n",
      "{13}\n",
      "\n",
      "\n",
      "{14}\n",
      "{16}\n",
      "\n",
      "{18}\n",
      "\n",
      "\n",
      "{19}\n",
      "{20}\n",
      "\n",
      "\n",
      "{21}\n",
      "\n",
      "{22}\n",
      "{23}\n",
      "\n",
      "{24}\n",
      "\n",
      "{25}\n",
      "\n",
      "\n",
      "{26}\n",
      "{29}\n",
      "\n",
      "\n",
      "{31}\n",
      "\n",
      "{33}\n",
      "{34}\n",
      "\n",
      "{35}\n",
      "\n",
      "{36}\n",
      "\n",
      "{39}\n",
      "\n",
      "\n",
      "{40}\n",
      "{43}\n",
      "\n",
      "{44}\n",
      "\n",
      "{45}\n",
      "\n",
      "{46}\n",
      "\n",
      "{47}\n",
      "\n",
      "\n",
      "{48}\n",
      "\n",
      "{49}\n",
      "{50}\n",
      "\n",
      "{51}\n",
      "\n",
      "\n",
      "{52}\n",
      "\n",
      "{53}\n",
      "{54}\n",
      "\n",
      "{55}\n",
      "\n",
      "\n",
      "{56}\n",
      "{59}\n",
      "\n",
      "{60}\n",
      "\n",
      "{61}\n",
      "\n",
      "\n",
      "{62}\n",
      "{67}\n",
      "\n",
      "{68}\n",
      "\n",
      "{71}\n",
      "\n",
      "{72}\n",
      "\n",
      "\n",
      "{73}\n",
      "{74}\n",
      "\n",
      "{75}\n",
      "\n",
      "{76}\n",
      "\n",
      "{78}\n",
      "\n",
      "{80}\n",
      "\n",
      "{81}\n",
      "\n",
      "{83}\n",
      "\n",
      "\n",
      "{84}\n",
      "\n",
      "{85}\n",
      "{86}\n",
      "\n",
      "{87}\n",
      "\n",
      "{88}\n",
      "\n",
      "{89}\n",
      "\n",
      "{90}\n",
      "\n",
      "{91}\n",
      "\n",
      "\n",
      "{92}\n",
      "{94}\n",
      "\n",
      "{96}\n",
      "\n",
      "\n",
      "{97}\n",
      "{98}\n",
      "\n",
      "\n",
      "{99}\n",
      "{100}\n",
      "\n",
      "{101}\n",
      "\n",
      "{102}\n",
      "\n",
      "{103}\n",
      "\n",
      "{104}\n",
      "\n",
      "{106}\n",
      "\n",
      "{108}\n",
      "\n",
      "{109}\n",
      "\n",
      "{110}\n",
      "\n",
      "\n",
      "{111}\n",
      "{112}\n",
      "\n",
      "{113}\n",
      "\n",
      "{115}\n",
      "\n",
      "\n",
      "{116}\n",
      "{117}\n",
      "\n",
      "{118}\n",
      "\n",
      "\n",
      "{119}\n",
      "{120}\n",
      "\n",
      "{121}\n",
      "\n",
      "\n",
      "{123}\n",
      "\n",
      "{124}\n",
      "{125}\n",
      "\n",
      "\n",
      "{126}\n",
      "{127}\n",
      "\n",
      "{128}\n",
      "\n",
      "\n",
      "{129}\n",
      "{130}\n",
      "\n",
      "{131}\n",
      "\n",
      "\n",
      "{133}\n",
      "{134}\n",
      "\n",
      "{135}\n",
      "\n",
      "\n",
      "{136}\n",
      "{137}\n",
      "\n",
      "{138}\n",
      "\n",
      "{139}\n",
      "\n",
      "{141}\n",
      "\n",
      "\n",
      "{142}\n",
      "{143}\n",
      "\n",
      "{144}\n",
      "\n",
      "{145}\n",
      "\n",
      "\n",
      "{146}\n",
      "\n",
      "{147}\n",
      "{148}\n",
      "\n",
      "{149}\n",
      "\n",
      "\n",
      "{150}\n",
      "\n",
      "{153}\n",
      "{154}\n",
      "\n",
      "{155}\n",
      "\n",
      "\n",
      "{156}\n",
      "{157}\n",
      "\n",
      "{158}\n",
      "\n",
      "{159}\n",
      "\n",
      "\n",
      "{160}\n",
      "{161}\n",
      "\n",
      "{162}\n",
      "\n",
      "\n",
      "{163}\n",
      "{166}\n",
      "\n",
      "{167}\n",
      "\n",
      "{168}\n",
      "\n",
      "\n",
      "{170}\n",
      "{171}\n",
      "\n",
      "{172}\n",
      "\n",
      "{173}\n",
      "\n",
      "{175}\n",
      "\n",
      "{176}\n",
      "\n",
      "{180}\n",
      "\n",
      "{181}\n",
      "\n",
      "{182}\n",
      "\n",
      "{183}\n",
      "\n",
      "{184}\n",
      "\n",
      "\n",
      "{185}\n",
      "{186}\n",
      "\n",
      "{187}\n",
      "\n",
      "\n",
      "{188}\n",
      "{189}\n",
      "\n",
      "\n",
      "{190}\n",
      "{191}\n",
      "\n",
      "{193}\n",
      "\n",
      "{194}\n",
      "\n",
      "\n",
      "{195}\n",
      "{198}\n",
      "\n",
      "{199}\n",
      "\n",
      "{201}\n",
      "\n",
      "\n",
      "{202}\n",
      "\n",
      "{203}\n",
      "{204}\n",
      "\n",
      "{205}\n",
      "\n",
      "{206}\n",
      "\n",
      "\n",
      "{207}\n",
      "{209}\n",
      "\n",
      "{210}\n",
      "\n",
      "{211}\n",
      "\n",
      "\n",
      "{212}\n",
      "{213}\n",
      "\n",
      "{214}\n",
      "\n",
      "{215}\n",
      "\n",
      "{216}\n",
      "\n",
      "\n",
      "{218}\n",
      "{219}\n",
      "\n",
      "{221}\n",
      "\n",
      "{222}\n",
      "\n",
      "\n",
      "{223}\n",
      "{225}\n",
      "\n",
      "{226}\n",
      "\n",
      "{228}\n",
      "\n",
      "{229}\n",
      "\n",
      "{232}\n",
      "\n",
      "{233}\n",
      "\n",
      "{234}\n",
      "\n",
      "{235}\n",
      "\n",
      "{236}\n",
      "\n",
      "{237}\n",
      "\n",
      "\n",
      "{238}\n",
      "{239}\n",
      "\n",
      "{240}\n",
      "\n",
      "{243}\n",
      "\n",
      "{244}\n",
      "\n",
      "{245}\n",
      "\n",
      "{248}\n",
      "\n",
      "{249}\n",
      "\n",
      "{250}\n",
      "\n",
      "{252}\n",
      "\n",
      "{253}\n",
      "\n",
      "{254}\n",
      "\n",
      "{255}\n",
      "\n",
      "{256}\n",
      "\n",
      "\n",
      "{257}\n",
      "{258}\n",
      "\n",
      "\n",
      "{259}\n",
      "{260}\n",
      "\n",
      "{261}\n",
      "\n",
      "{262}\n",
      "\n",
      "\n",
      "{264}\n",
      "{265}\n",
      "\n",
      "{266}\n",
      "\n",
      "{267}\n",
      "\n",
      "{269}\n",
      "\n",
      "\n",
      "{270}\n",
      "\n",
      "{271}\n",
      "{272}\n",
      "\n",
      "{275}\n",
      "\n",
      "{279}\n",
      "\n",
      "{280}\n",
      "\n",
      "\n",
      "{282}\n",
      "{284}\n",
      "\n",
      "\n",
      "{285}\n",
      "{286}\n",
      "\n",
      "{287}\n",
      "\n"
     ]
    }
   ],
   "source": [
    "\n",
    "components = nx.connected_components(G)\n",
    "\n",
    "for component in components:\n",
    "    print(component)\n",
    "    input()\n",
    "\n",
    "    "
   ]
  },
  {
   "cell_type": "code",
   "execution_count": 76,
   "metadata": {},
   "outputs": [
    {
     "data": {
      "image/png": "[encoded data removed]",
      "text/plain": [
       "<Figure size 432x288 with 1 Axes>"
      ]
     },
     "metadata": {},
     "output_type": "display_data"
    },
    {
     "data": {
      "image/png": "[encoded data removed]",
      "text/plain": [
       "<Figure size 432x288 with 1 Axes>"
      ]
     },
     "metadata": {},
     "output_type": "display_data"
    },
    {
     "data": {
      "image/png": "[encoded data removed]",
      "text/plain": [
       "<Figure size 432x288 with 1 Axes>"
      ]
     },
     "metadata": {},
     "output_type": "display_data"
    },
    {
     "data": {
      "image/png": "[encoded data removed]",
      "text/plain": [
       "<Figure size 432x288 with 1 Axes>"
      ]
     },
     "metadata": {},
     "output_type": "display_data"
    },
    {
     "data": {
      "image/png": "[encoded data removed]",
      "text/plain": [
       "<Figure size 432x288 with 1 Axes>"
      ]
     },
     "metadata": {},
     "output_type": "display_data"
    },
    {
     "data": {
      "image/png": "[encoded data removed]",
      "text/plain": [
       "<Figure size 432x288 with 1 Axes>"
      ]
     },
     "metadata": {},
     "output_type": "display_data"
    },
    {
     "data": {
      "image/png": "[encoded data removed]",
      "text/plain": [
       "<Figure size 432x288 with 1 Axes>"
      ]
     },
     "metadata": {},
     "output_type": "display_data"
    },
    {
     "data": {
      "image/png": "[encoded data removed]",
      "text/plain": [
       "<Figure size 432x288 with 1 Axes>"
      ]
     },
     "metadata": {},
     "output_type": "display_data"
    },
    {
     "data": {
      "image/png": "[encoded data removed]",
      "text/plain": [
       "<Figure size 432x288 with 1 Axes>"
      ]
     },
     "metadata": {},
     "output_type": "display_data"
    },
    {
     "data": {
      "image/png": "[encoded data removed]",
      "text/plain": [
       "<Figure size 432x288 with 1 Axes>"
      ]
     },
     "metadata": {},
     "output_type": "display_data"
    },
    {
     "data": {
      "image/png": "[encoded data removed]",
      "text/plain": [
       "<Figure size 432x288 with 1 Axes>"
      ]
     },
     "metadata": {},
     "output_type": "display_data"
    },
    {
     "data": {
      "image/png": "[encoded data removed]",
      "text/plain": [
       "<Figure size 432x288 with 1 Axes>"
      ]
     },
     "metadata": {},
     "output_type": "display_data"
    },
    {
     "data": {
      "image/png": "[encoded data removed]",
      "text/plain": [
       "<Figure size 432x288 with 1 Axes>"
      ]
     },
     "metadata": {},
     "output_type": "display_data"
    },
    {
     "data": {
      "image/png": "[encoded data removed]",
      "text/plain": [
       "<Figure size 432x288 with 1 Axes>"
      ]
     },
     "metadata": {},
     "output_type": "display_data"
    },
    {
     "data": {
      "image/png": "[encoded data removed]",
      "text/plain": [
       "<Figure size 432x288 with 1 Axes>"
      ]
     },
     "metadata": {},
     "output_type": "display_data"
    },
    {
     "data": {
      "image/png": "[encoded data removed]",
      "text/plain": [
       "<Figure size 432x288 with 1 Axes>"
      ]
     },
     "metadata": {},
     "output_type": "display_data"
    },
    {
     "data": {
      "image/png": "[encoded data removed]",
      "text/plain": [
       "<Figure size 432x288 with 1 Axes>"
      ]
     },
     "metadata": {},
     "output_type": "display_data"
    },
    {
     "data": {
      "image/png": "[encoded data removed]",
      "text/plain": [
       "<Figure size 432x288 with 1 Axes>"
      ]
     },
     "metadata": {},
     "output_type": "display_data"
    },
    {
     "data": {
      "image/png": "[encoded data removed]",
      "text/plain": [
       "<Figure size 432x288 with 1 Axes>"
      ]
     },
     "metadata": {},
     "output_type": "display_data"
    },
    {
     "data": {
      "image/png": "[encoded data removed]",
      "text/plain": [
       "<Figure size 432x288 with 1 Axes>"
      ]
     },
     "metadata": {},
     "output_type": "display_data"
    },
    {
     "data": {
      "image/png": "[encoded data removed]",
      "text/plain": [
       "<Figure size 432x288 with 1 Axes>"
      ]
     },
     "metadata": {},
     "output_type": "display_data"
    },
    {
     "data": {
      "image/png": "[encoded data removed]",
      "text/plain": [
       "<Figure size 432x288 with 1 Axes>"
      ]
     },
     "metadata": {},
     "output_type": "display_data"
    },
    {
     "data": {
      "image/png": "[encoded data removed]",
      "text/plain": [
       "<Figure size 432x288 with 1 Axes>"
      ]
     },
     "metadata": {},
     "output_type": "display_data"
    },
    {
     "data": {
      "image/png": "[encoded data removed]",
      "text/plain": [
       "<Figure size 432x288 with 1 Axes>"
      ]
     },
     "metadata": {},
     "output_type": "display_data"
    },
    {
     "data": {
      "image/png": "[encoded data removed]",
      "text/plain": [
       "<Figure size 432x288 with 1 Axes>"
      ]
     },
     "metadata": {},
     "output_type": "display_data"
    },
    {
     "data": {
      "image/png": "[encoded data removed]",
      "text/plain": [
       "<Figure size 432x288 with 1 Axes>"
      ]
     },
     "metadata": {},
     "output_type": "display_data"
    },
    {
     "data": {
      "image/png": "[encoded data removed]",
      "text/plain": [
       "<Figure size 432x288 with 1 Axes>"
      ]
     },
     "metadata": {},
     "output_type": "display_data"
    },
    {
     "data": {
      "image/png": "[encoded data removed]",
      "text/plain": [
       "<Figure size 432x288 with 1 Axes>"
      ]
     },
     "metadata": {},
     "output_type": "display_data"
    },
    {
     "data": {
      "image/png": "[encoded data removed]",
      "text/plain": [
       "<Figure size 432x288 with 1 Axes>"
      ]
     },
     "metadata": {},
     "output_type": "display_data"
    },
    {
     "data": {
      "image/png": "[encoded data removed]",
      "text/plain": [
       "<Figure size 432x288 with 1 Axes>"
      ]
     },
     "metadata": {},
     "output_type": "display_data"
    },
    {
     "data": {
      "image/png": "[encoded data removed]",
      "text/plain": [
       "<Figure size 432x288 with 1 Axes>"
      ]
     },
     "metadata": {},
     "output_type": "display_data"
    },
    {
     "data": {
      "image/png": "[encoded data removed]",
      "text/plain": [
       "<Figure size 432x288 with 1 Axes>"
      ]
     },
     "metadata": {},
     "output_type": "display_data"
    },
    {
     "data": {
      "image/png": "[encoded data removed]",
      "text/plain": [
       "<Figure size 432x288 with 1 Axes>"
      ]
     },
     "metadata": {},
     "output_type": "display_data"
    },
    {
     "data": {
      "image/png": "[encoded data removed]",
      "text/plain": [
       "<Figure size 432x288 with 1 Axes>"
      ]
     },
     "metadata": {},
     "output_type": "display_data"
    },
    {
     "data": {
      "image/png": "[encoded data removed]",
      "text/plain": [
       "<Figure size 432x288 with 1 Axes>"
      ]
     },
     "metadata": {},
     "output_type": "display_data"
    },
    {
     "data": {
      "image/png": "[encoded data removed]",
      "text/plain": [
       "<Figure size 432x288 with 1 Axes>"
      ]
     },
     "metadata": {},
     "output_type": "display_data"
    },
    {
     "data": {
      "image/png": "[encoded data removed]",
      "text/plain": [
       "<Figure size 432x288 with 1 Axes>"
      ]
     },
     "metadata": {},
     "output_type": "display_data"
    },
    {
     "data": {
      "image/png": "[encoded data removed]",
      "text/plain": [
       "<Figure size 432x288 with 1 Axes>"
      ]
     },
     "metadata": {},
     "output_type": "display_data"
    },
    {
     "data": {
      "image/png": "[encoded data removed]",
      "text/plain": [
       "<Figure size 432x288 with 1 Axes>"
      ]
     },
     "metadata": {},
     "output_type": "display_data"
    },
    {
     "data": {
      "image/png": "[encoded data removed]",
      "text/plain": [
       "<Figure size 432x288 with 1 Axes>"
      ]
     },
     "metadata": {},
     "output_type": "display_data"
    },
    {
     "data": {
      "image/png": "[encoded data removed]",
      "text/plain": [
       "<Figure size 432x288 with 1 Axes>"
      ]
     },
     "metadata": {},
     "output_type": "display_data"
    },
    {
     "data": {
      "image/png": "[encoded data removed]",
      "text/plain": [
       "<Figure size 432x288 with 1 Axes>"
      ]
     },
     "metadata": {},
     "output_type": "display_data"
    },
    {
     "data": {
      "image/png": "[encoded data removed]",
      "text/plain": [
       "<Figure size 432x288 with 1 Axes>"
      ]
     },
     "metadata": {},
     "output_type": "display_data"
    },
    {
     "data": {
      "image/png": "[encoded data removed]",
      "text/plain": [
       "<Figure size 432x288 with 1 Axes>"
      ]
     },
     "metadata": {},
     "output_type": "display_data"
    },
    {
     "data": {
      "image/png": "[encoded data removed]",
      "text/plain": [
       "<Figure size 432x288 with 1 Axes>"
      ]
     },
     "metadata": {},
     "output_type": "display_data"
    },
    {
     "data": {
      "image/png": "[encoded data removed]",
      "text/plain": [
       "<Figure size 432x288 with 1 Axes>"
      ]
     },
     "metadata": {},
     "output_type": "display_data"
    },
    {
     "data": {
      "image/png": "[encoded data removed]",
      "text/plain": [
       "<Figure size 432x288 with 1 Axes>"
      ]
     },
     "metadata": {},
     "output_type": "display_data"
    },
    {
     "data": {
      "image/png": "[encoded data removed]",
      "text/plain": [
       "<Figure size 432x288 with 1 Axes>"
      ]
     },
     "metadata": {},
     "output_type": "display_data"
    },
    {
     "data": {
      "image/png": "[encoded data removed]",
      "text/plain": [
       "<Figure size 432x288 with 1 Axes>"
      ]
     },
     "metadata": {},
     "output_type": "display_data"
    },
    {
     "data": {
      "image/png": "[encoded data removed]",
      "text/plain": [
       "<Figure size 432x288 with 1 Axes>"
      ]
     },
     "metadata": {},
     "output_type": "display_data"
    },
    {
     "data": {
      "image/png": "[encoded data removed]",
      "text/plain": [
       "<Figure size 432x288 with 1 Axes>"
      ]
     },
     "metadata": {},
     "output_type": "display_data"
    },
    {
     "data": {
      "image/png": "[encoded data removed]",
      "text/plain": [
       "<Figure size 432x288 with 1 Axes>"
      ]
     },
     "metadata": {},
     "output_type": "display_data"
    },
    {
     "data": {
      "image/png": "[encoded data removed]",
      "text/plain": [
       "<Figure size 432x288 with 1 Axes>"
      ]
     },
     "metadata": {},
     "output_type": "display_data"
    },
    {
     "data": {
      "image/png": "[encoded data removed]",
      "text/plain": [
       "<Figure size 432x288 with 1 Axes>"
      ]
     },
     "metadata": {},
     "output_type": "display_data"
    },
    {
     "data": {
      "image/png": "[encoded data removed]",
      "text/plain": [
       "<Figure size 432x288 with 1 Axes>"
      ]
     },
     "metadata": {},
     "output_type": "display_data"
    },
    {
     "data": {
      "image/png": "[encoded data removed]",
      "text/plain": [
       "<Figure size 432x288 with 1 Axes>"
      ]
     },
     "metadata": {},
     "output_type": "display_data"
    },
    {
     "data": {
      "image/png": "[encoded data removed]",
      "text/plain": [
       "<Figure size 432x288 with 1 Axes>"
      ]
     },
     "metadata": {},
     "output_type": "display_data"
    },
    {
     "data": {
      "image/png": "[encoded data removed]",
      "text/plain": [
       "<Figure size 432x288 with 1 Axes>"
      ]
     },
     "metadata": {},
     "output_type": "display_data"
    },
    {
     "data": {
      "image/png": "[encoded data removed]",
      "text/plain": [
       "<Figure size 432x288 with 1 Axes>"
      ]
     },
     "metadata": {},
     "output_type": "display_data"
    },
    {
     "data": {
      "image/png": "[encoded data removed]",
      "text/plain": [
       "<Figure size 432x288 with 1 Axes>"
      ]
     },
     "metadata": {},
     "output_type": "display_data"
    },
    {
     "data": {
      "image/png": "[encoded data removed]",
      "text/plain": [
       "<Figure size 432x288 with 1 Axes>"
      ]
     },
     "metadata": {},
     "output_type": "display_data"
    },
    {
     "data": {
      "image/png": "[encoded data removed]",
      "text/plain": [
       "<Figure size 432x288 with 1 Axes>"
      ]
     },
     "metadata": {},
     "output_type": "display_data"
    },
    {
     "data": {
      "image/png": "[encoded data removed]",
      "text/plain": [
       "<Figure size 432x288 with 1 Axes>"
      ]
     },
     "metadata": {},
     "output_type": "display_data"
    },
    {
     "data": {
      "image/png": "[encoded data removed]",
      "text/plain": [
       "<Figure size 432x288 with 1 Axes>"
      ]
     },
     "metadata": {},
     "output_type": "display_data"
    },
    {
     "data": {
      "image/png": "[encoded data removed]",
      "text/plain": [
       "<Figure size 432x288 with 1 Axes>"
      ]
     },
     "metadata": {},
     "output_type": "display_data"
    },
    {
     "data": {
      "image/png": "[encoded data removed]",
      "text/plain": [
       "<Figure size 432x288 with 1 Axes>"
      ]
     },
     "metadata": {},
     "output_type": "display_data"
    },
    {
     "data": {
      "image/png": "[encoded data removed]",
      "text/plain": [
       "<Figure size 432x288 with 1 Axes>"
      ]
     },
     "metadata": {},
     "output_type": "display_data"
    },
    {
     "data": {
      "image/png": "[encoded data removed]",
      "text/plain": [
       "<Figure size 432x288 with 1 Axes>"
      ]
     },
     "metadata": {},
     "output_type": "display_data"
    },
    {
     "data": {
      "image/png": "[encoded data removed]",
      "text/plain": [
       "<Figure size 432x288 with 1 Axes>"
      ]
     },
     "metadata": {},
     "output_type": "display_data"
    },
    {
     "data": {
      "image/png": "[encoded data removed]",
      "text/plain": [
       "<Figure size 432x288 with 1 Axes>"
      ]
     },
     "metadata": {},
     "output_type": "display_data"
    },
    {
     "data": {
      "image/png": "[encoded data removed]",
      "text/plain": [
       "<Figure size 432x288 with 1 Axes>"
      ]
     },
     "metadata": {},
     "output_type": "display_data"
    },
    {
     "data": {
      "image/png": "[encoded data removed]",
      "text/plain": [
       "<Figure size 432x288 with 1 Axes>"
      ]
     },
     "metadata": {},
     "output_type": "display_data"
    },
    {
     "data": {
      "image/png": "[encoded data removed]",
      "text/plain": [
       "<Figure size 432x288 with 1 Axes>"
      ]
     },
     "metadata": {},
     "output_type": "display_data"
    },
    {
     "data": {
      "image/png": "[encoded data removed]",
      "text/plain": [
       "<Figure size 432x288 with 1 Axes>"
      ]
     },
     "metadata": {},
     "output_type": "display_data"
    },
    {
     "data": {
      "image/png": "[encoded data removed]",
      "text/plain": [
       "<Figure size 432x288 with 1 Axes>"
      ]
     },
     "metadata": {},
     "output_type": "display_data"
    },
    {
     "data": {
      "image/png": "[encoded data removed]",
      "text/plain": [
       "<Figure size 432x288 with 1 Axes>"
      ]
     },
     "metadata": {},
     "output_type": "display_data"
    },
    {
     "data": {
      "image/png": "[encoded data removed]",
      "text/plain": [
       "<Figure size 432x288 with 1 Axes>"
      ]
     },
     "metadata": {},
     "output_type": "display_data"
    },
    {
     "data": {
      "image/png": "[encoded data removed]",
      "text/plain": [
       "<Figure size 432x288 with 1 Axes>"
      ]
     },
     "metadata": {},
     "output_type": "display_data"
    },
    {
     "data": {
      "image/png": "[encoded data removed]",
      "text/plain": [
       "<Figure size 432x288 with 1 Axes>"
      ]
     },
     "metadata": {},
     "output_type": "display_data"
    },
    {
     "data": {
      "image/png": "[encoded data removed]",
      "text/plain": [
       "<Figure size 432x288 with 1 Axes>"
      ]
     },
     "metadata": {},
     "output_type": "display_data"
    },
    {
     "data": {
      "image/png": "[encoded data removed]",
      "text/plain": [
       "<Figure size 432x288 with 1 Axes>"
      ]
     },
     "metadata": {},
     "output_type": "display_data"
    },
    {
     "data": {
      "image/png": "[encoded data removed]",
      "text/plain": [
       "<Figure size 432x288 with 1 Axes>"
      ]
     },
     "metadata": {},
     "output_type": "display_data"
    },
    {
     "data": {
      "image/png": "[encoded data removed]",
      "text/plain": [
       "<Figure size 432x288 with 1 Axes>"
      ]
     },
     "metadata": {},
     "output_type": "display_data"
    },
    {
     "data": {
      "image/png": "[encoded data removed]",
      "text/plain": [
       "<Figure size 432x288 with 1 Axes>"
      ]
     },
     "metadata": {},
     "output_type": "display_data"
    },
    {
     "data": {
      "image/png": "[encoded data removed]",
      "text/plain": [
       "<Figure size 432x288 with 1 Axes>"
      ]
     },
     "metadata": {},
     "output_type": "display_data"
    },
    {
     "data": {
      "image/png": "[encoded data removed]",
      "text/plain": [
       "<Figure size 432x288 with 1 Axes>"
      ]
     },
     "metadata": {},
     "output_type": "display_data"
    },
    {
     "data": {
      "image/png": "[encoded data removed]",
      "text/plain": [
       "<Figure size 432x288 with 1 Axes>"
      ]
     },
     "metadata": {},
     "output_type": "display_data"
    },
    {
     "data": {
      "image/png": "[encoded data removed]",
      "text/plain": [
       "<Figure size 432x288 with 1 Axes>"
      ]
     },
     "metadata": {},
     "output_type": "display_data"
    },
    {
     "data": {
      "image/png": "[encoded data removed]",
      "text/plain": [
       "<Figure size 432x288 with 1 Axes>"
      ]
     },
     "metadata": {},
     "output_type": "display_data"
    },
    {
     "data": {
      "image/png": "[encoded data removed]",
      "text/plain": [
       "<Figure size 432x288 with 1 Axes>"
      ]
     },
     "metadata": {},
     "output_type": "display_data"
    },
    {
     "data": {
      "image/png": "[encoded data removed]",
      "text/plain": [
       "<Figure size 432x288 with 1 Axes>"
      ]
     },
     "metadata": {},
     "output_type": "display_data"
    },
    {
     "data": {
      "image/png": "[encoded data removed]",
      "text/plain": [
       "<Figure size 432x288 with 1 Axes>"
      ]
     },
     "metadata": {},
     "output_type": "display_data"
    },
    {
     "data": {
      "image/png": "[encoded data removed]",
      "text/plain": [
       "<Figure size 432x288 with 1 Axes>"
      ]
     },
     "metadata": {},
     "output_type": "display_data"
    },
    {
     "data": {
      "image/png": "[encoded data removed]",
      "text/plain": [
       "<Figure size 432x288 with 1 Axes>"
      ]
     },
     "metadata": {},
     "output_type": "display_data"
    },
    {
     "data": {
      "image/png": "[encoded data removed]",
      "text/plain": [
       "<Figure size 432x288 with 1 Axes>"
      ]
     },
     "metadata": {},
     "output_type": "display_data"
    },
    {
     "data": {
      "image/png": "[encoded data removed]",
      "text/plain": [
       "<Figure size 432x288 with 1 Axes>"
      ]
     },
     "metadata": {},
     "output_type": "display_data"
    },
    {
     "data": {
      "image/png": "[encoded data removed]",
      "text/plain": [
       "<Figure size 432x288 with 1 Axes>"
      ]
     },
     "metadata": {},
     "output_type": "display_data"
    },
    {
     "data": {
      "image/png": "[encoded data removed]",
      "text/plain": [
       "<Figure size 432x288 with 1 Axes>"
      ]
     },
     "metadata": {},
     "output_type": "display_data"
    },
    {
     "data": {
      "image/png": "[encoded data removed]",
      "text/plain": [
       "<Figure size 432x288 with 1 Axes>"
      ]
     },
     "metadata": {},
     "output_type": "display_data"
    },
    {
     "data": {
      "image/png": "[encoded data removed]",
      "text/plain": [
       "<Figure size 432x288 with 1 Axes>"
      ]
     },
     "metadata": {},
     "output_type": "display_data"
    },
    {
     "data": {
      "image/png": "[encoded data removed]",
      "text/plain": [
       "<Figure size 432x288 with 1 Axes>"
      ]
     },
     "metadata": {},
     "output_type": "display_data"
    }
   ],
   "source": [
    "# Draw a graph for each strongly connected component\n",
    "components = nx.connected_components(G)\n",
    "\n",
    "for component in components:\n",
    "    subgraph = G.subgraph(component)\n",
    "    nx.draw(subgraph, pos, node_color=range(subgraph.number_of_nodes()), node_size=800, cmap=plt.cm.Blues)\n",
    "    plt.show()"
   ]
  },
  {
   "cell_type": "code",
   "execution_count": null,
   "metadata": {},
   "outputs": [],
   "source": [
    "# Stats before cleaning\n",
    "print(\"Edges: \", G.number_of_edges(), \". Nodes: \", G.number_of_nodes())\n",
    "print(\"Cleaning...\")\n",
    "\n",
    "# Threshold data and clean\n",
    "edge_weights = nx.get_edge_attributes(G,'weight')\n",
    "G.remove_edges_from((e for e, w in edge_weights.items() if w < 45)) # TODO: normalize threshold to max_edge?\n",
    "G.remove_nodes_from(list(nx.isolates(G)))\n",
    "\n",
    "# Stats after cleaning\n",
    "print(\"Edges: \", G.number_of_edges(), \". Nodes: \", G.number_of_nodes())"
   ]
  },
  {
   "cell_type": "code",
   "execution_count": null,
   "metadata": {},
   "outputs": [],
   "source": []
  },
  {
   "cell_type": "code",
   "execution_count": null,
   "metadata": {},
   "outputs": [],
   "source": [
    "# Draw graph\n",
    "pos = nx.kamada_kawai_layout(G)\n",
    "nx.draw(G, pos, node_color=range(G.number_of_nodes()), node_size=800, cmap=plt.cm.Blues)\n",
    "plt.show()"
   ]
  },
  {
   "cell_type": "code",
   "execution_count": null,
   "metadata": {
    "scrolled": true
   },
   "outputs": [],
   "source": [
    "# Draw a graph for each strongly connected component\n",
    "components = nx.strongly_connected_components(G)\n",
    "for component in components:\n",
    "    print(component)\n",
    "    subgraph = G.subgraph(component)\n",
    "    nx.draw(subgraph, pos, node_color=range(subgraph.number_of_nodes()), node_size=800, cmap=plt.cm.Blues)\n",
    "    plt.show()"
   ]
  },
  {
   "cell_type": "code",
   "execution_count": null,
   "metadata": {},
   "outputs": [],
   "source": [
    "# Draw the adjacency matrix\n",
    "adj_matrix = nx.to_numpy_matrix(G)\n",
    "plt.imshow(adj_matrix)\n",
    "plt.show()"
   ]
  },
  {
   "cell_type": "code",
   "execution_count": null,
   "metadata": {},
   "outputs": [],
   "source": [
    "# Draw histogram of degrees\n",
    "degrees = [val for (node, val) in G.degree()]\n",
    "degrees.sort()\n",
    "plt.hist(degrees, bins=20)"
   ]
  }
 ],
 "metadata": {
  "kernelspec": {
   "display_name": "Python 3",
   "language": "python",
   "name": "python3"
  },
  "language_info": {
   "codemirror_mode": {
    "name": "ipython",
    "version": 3
   },
   "file_extension": ".py",
   "mimetype": "text/x-python",
   "name": "python",
   "nbconvert_exporter": "python",
   "pygments_lexer": "ipython3",
   "version": "3.6.9"
  }
 },
 "nbformat": 4,
 "nbformat_minor": 4
}
